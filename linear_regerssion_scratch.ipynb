{
  "nbformat": 4,
  "nbformat_minor": 0,
  "metadata": {
    "colab": {
      "name": "Untitled10.ipynb",
      "provenance": [],
      "collapsed_sections": []
    },
    "kernelspec": {
      "name": "python3",
      "display_name": "Python 3"
    }
  },
  "cells": [
    {
      "cell_type": "code",
      "metadata": {
        "id": "3iX1vF87PMUj",
        "colab_type": "code",
        "colab": {}
      },
      "source": [
        "# Linear Regression: y = mx + b, where m is the best fit slope and b is y-intercept\n",
        "# regression line (y) = mx + b\n",
        "# m = ( (mean(x) * mean(y)) - (mean(x *y)) ) / ( (mean(x))^2 - mean(x^2) )\n",
        "# b = ( mean(y) ) - ( m * mean(x) )\n",
        "# Error is the distance between the x plot to the regression line, can be determined by SE (Squared Error)\n",
        "# SE = sum((y line - actual y) ^ 2)\n",
        "# R^2 = 1 - ( (SE y_prediction) / (SE mean(y)) ), to determine the coeficient of determination "
      ],
      "execution_count": 0,
      "outputs": []
    },
    {
      "cell_type": "code",
      "metadata": {
        "id": "SukoI7ShSO-S",
        "colab_type": "code",
        "colab": {}
      },
      "source": [
        "import random \n",
        "from statistics import mean\n",
        "import numpy as np\n",
        "\n",
        "import matplotlib.pyplot as plt\n",
        "from matplotlib import style\n",
        "\n",
        "style.use('fivethirtyeight')"
      ],
      "execution_count": 0,
      "outputs": []
    },
    {
      "cell_type": "code",
      "metadata": {
        "id": "_Ja8GJdGS0og",
        "colab_type": "code",
        "colab": {}
      },
      "source": [
        "Xs = np.array([1, 2, 3, 4, 5, 6], dtype = np.float64)\n",
        "Ys = np.array([5, 4, 6, 5, 6, 7], dtype = np.float64)"
      ],
      "execution_count": 0,
      "outputs": []
    },
    {
      "cell_type": "code",
      "metadata": {
        "id": "eeUZF9EKS7ye",
        "colab_type": "code",
        "colab": {}
      },
      "source": [
        "def create_dataset(data_length, variance, step = 2, correlation = False):\n",
        "  value = 1\n",
        "  Ys = []\n",
        "\n",
        "  for i in range(data_length):\n",
        "    y = value + random.randrange(-variance, variance)\n",
        "    Ys.append(y)\n",
        "\n",
        "    if correlation and correlation == 'positive':\n",
        "      value += step\n",
        "    \n",
        "    if correlation and correlation == 'negative':\n",
        "      value -= step\n",
        "\n",
        "  Xs = [i for i in range(len(Ys))]\n",
        "\n",
        "  return np.array(Xs, dtype = np.float64), np.array(Ys, dtype = np.float64)\n",
        "\n",
        "def best_fit_slope_and_intercept(Xs, Ys):\n",
        "  m = ( (mean(Xs) * mean(Ys)) - (mean(Xs * Ys)) ) / ( (mean(Xs) ** 2) - (mean(Xs ** 2)) ) \n",
        "  b = ( mean(Ys) ) - ( m * mean(Xs) )\n",
        "\n",
        "  return m, b\n",
        "\n",
        "def squared_error(actual_Ys, Ys_line):\n",
        "  return sum((Ys_line - actual_Ys) ** 2)\n",
        "\n",
        "def coeficient_of_determination(actual_Ys, Ys_line):\n",
        "  y_mean_line = [mean(actual_Ys) for y in actual_Ys]\n",
        "  squared_error_regerssion = squared_error(actual_Ys, Ys_line)\n",
        "  squared_error_y_mean = squared_error(actual_Ys, y_mean_line)\n",
        "\n",
        "  return 1 - (squared_error_regerssion / squared_error_y_mean)"
      ],
      "execution_count": 0,
      "outputs": []
    },
    {
      "cell_type": "code",
      "metadata": {
        "id": "27NezNwdTZtr",
        "colab_type": "code",
        "colab": {}
      },
      "source": [
        "Xs, Ys = create_dataset(80, 20, 2, correlation = 'positive')"
      ],
      "execution_count": 0,
      "outputs": []
    },
    {
      "cell_type": "code",
      "metadata": {
        "id": "X5VK6BqMS-4-",
        "colab_type": "code",
        "outputId": "28cbcb79-f3c6-45c0-e94d-6091babb9764",
        "colab": {
          "base_uri": "https://localhost:8080/",
          "height": 34
        }
      },
      "source": [
        "m, b = best_fit_slope_and_intercept(Xs, Ys)\n",
        "\n",
        "m, b"
      ],
      "execution_count": 78,
      "outputs": [
        {
          "output_type": "execute_result",
          "data": {
            "text/plain": [
              "(2.0760431317393344, -1.7787037037037123)"
            ]
          },
          "metadata": {
            "tags": []
          },
          "execution_count": 78
        }
      ]
    },
    {
      "cell_type": "code",
      "metadata": {
        "id": "fPT0XDSBUaOn",
        "colab_type": "code",
        "colab": {}
      },
      "source": [
        "regression_line = [(m * x) + b for x in Xs]"
      ],
      "execution_count": 0,
      "outputs": []
    },
    {
      "cell_type": "code",
      "metadata": {
        "id": "LjGibF1jVzlw",
        "colab_type": "code",
        "outputId": "e88bbcdd-674f-40f5-f2ab-b1e8b88b0532",
        "colab": {
          "base_uri": "https://localhost:8080/",
          "height": 304
        }
      },
      "source": [
        "plt.scatter(Xs, Ys)\n",
        "\n",
        "plt.plot(Xs, regression_line)\n",
        "\n",
        "plt.xlabel('Xs')\n",
        "plt.ylabel('Ys')\n",
        "\n",
        "plt.show()"
      ],
      "execution_count": 80,
      "outputs": [
        {
          "output_type": "display_data",
          "data": {
            "image/png": "[encoded data removed]",
            "text/plain": [
              "<Figure size 432x288 with 1 Axes>"
            ]
          },
          "metadata": {
            "tags": []
          }
        }
      ]
    },
    {
      "cell_type": "code",
      "metadata": {
        "id": "JPcX21uOWB-9",
        "colab_type": "code",
        "colab": {}
      },
      "source": [
        "predict_x = 8\n",
        "predict_y = (m * predict_x) + b"
      ],
      "execution_count": 0,
      "outputs": []
    },
    {
      "cell_type": "code",
      "metadata": {
        "id": "EzzEddWdWVpW",
        "colab_type": "code",
        "outputId": "c0c543d0-b8fe-4c8a-a509-7544fff07a37",
        "colab": {
          "base_uri": "https://localhost:8080/",
          "height": 304
        }
      },
      "source": [
        "plt.scatter(Xs, Ys)\n",
        "plt.scatter(predict_x, predict_y, s = 100, color = 'green')\n",
        "\n",
        "plt.plot(Xs, regression_line)\n",
        "\n",
        "plt.xlabel('Xs')\n",
        "plt.ylabel('Ys')\n",
        "\n",
        "plt.show()"
      ],
      "execution_count": 82,
      "outputs": [
        {
          "output_type": "display_data",
          "data": {
            "image/png": "[encoded data removed]",
            "text/plain": [
              "<Figure size 432x288 with 1 Axes>"
            ]
          },
          "metadata": {
            "tags": []
          }
        }
      ]
    },
    {
      "cell_type": "code",
      "metadata": {
        "id": "LykJfY_8Woal",
        "colab_type": "code",
        "outputId": "732aa303-d94a-4244-e2d3-f764bbc0b7de",
        "colab": {
          "base_uri": "https://localhost:8080/",
          "height": 34
        }
      },
      "source": [
        "r_squared = coeficient_of_determination(Ys, regression_line)\n",
        "\n",
        "print(r_squared)"
      ],
      "execution_count": 83,
      "outputs": [
        {
          "output_type": "stream",
          "text": [
            "0.9581373860123801\n"
          ],
          "name": "stdout"
        }
      ]
    },
    {
      "cell_type": "code",
      "metadata": {
        "id": "ktO9rxcBbY9m",
        "colab_type": "code",
        "colab": {}
      },
      "source": [
        ""
      ],
      "execution_count": 0,
      "outputs": []
    }
  ]
}